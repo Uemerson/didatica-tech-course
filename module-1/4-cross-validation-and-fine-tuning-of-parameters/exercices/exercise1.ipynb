{
 "cells": [
  {
   "cell_type": "code",
   "execution_count": 1,
   "metadata": {},
   "outputs": [],
   "source": [
    "import pandas as pd\n",
    "# load dataset\n",
    "df = pd.read_csv('datasets/Admission_Predict.csv')"
   ]
  },
  {
   "cell_type": "code",
   "execution_count": 2,
   "metadata": {},
   "outputs": [
    {
     "data": {
      "text/plain": [
       "<bound method NDFrame.head of      Serial No.  GRE Score  TOEFL Score  University Rating  SOP  LOR   CGPA  \\\n",
       "0             1        337          118                  4  4.5   4.5  9.65   \n",
       "1             2        324          107                  4  4.0   4.5  8.87   \n",
       "2             3        316          104                  3  3.0   3.5  8.00   \n",
       "3             4        322          110                  3  3.5   2.5  8.67   \n",
       "4             5        314          103                  2  2.0   3.0  8.21   \n",
       "..          ...        ...          ...                ...  ...   ...   ...   \n",
       "395         396        324          110                  3  3.5   3.5  9.04   \n",
       "396         397        325          107                  3  3.0   3.5  9.11   \n",
       "397         398        330          116                  4  5.0   4.5  9.45   \n",
       "398         399        312          103                  3  3.5   4.0  8.78   \n",
       "399         400        333          117                  4  5.0   4.0  9.66   \n",
       "\n",
       "     Research  Chance of Admit   \n",
       "0           1              0.92  \n",
       "1           1              0.76  \n",
       "2           1              0.72  \n",
       "3           1              0.80  \n",
       "4           0              0.65  \n",
       "..        ...               ...  \n",
       "395         1              0.82  \n",
       "396         1              0.84  \n",
       "397         1              0.91  \n",
       "398         0              0.67  \n",
       "399         1              0.95  \n",
       "\n",
       "[400 rows x 9 columns]>"
      ]
     },
     "execution_count": 2,
     "metadata": {},
     "output_type": "execute_result"
    }
   ],
   "source": [
    "df.head"
   ]
  },
  {
   "cell_type": "code",
   "execution_count": 3,
   "metadata": {},
   "outputs": [
    {
     "data": {
      "text/plain": [
       "(400, 9)"
      ]
     },
     "execution_count": 3,
     "metadata": {},
     "output_type": "execute_result"
    }
   ],
   "source": [
    "df.shape"
   ]
  },
  {
   "cell_type": "code",
   "execution_count": 4,
   "metadata": {},
   "outputs": [
    {
     "data": {
      "text/plain": [
       "Serial No.             int64\n",
       "GRE Score              int64\n",
       "TOEFL Score            int64\n",
       "University Rating      int64\n",
       "SOP                  float64\n",
       "LOR                  float64\n",
       "CGPA                 float64\n",
       "Research               int64\n",
       "Chance of Admit      float64\n",
       "dtype: object"
      ]
     },
     "execution_count": 4,
     "metadata": {},
     "output_type": "execute_result"
    }
   ],
   "source": [
    "df.dtypes"
   ]
  },
  {
   "cell_type": "code",
   "execution_count": 5,
   "metadata": {},
   "outputs": [
    {
     "name": "stdout",
     "output_type": "stream",
     "text": [
      "Serial No.           0\n",
      "GRE Score            0\n",
      "TOEFL Score          0\n",
      "University Rating    0\n",
      "SOP                  0\n",
      "LOR                  0\n",
      "CGPA                 0\n",
      "Research             0\n",
      "Chance of Admit      0\n",
      "dtype: int64\n"
     ]
    }
   ],
   "source": [
    "missing = df.isnull().sum()\n",
    "print(missing)"
   ]
  },
  {
   "cell_type": "code",
   "execution_count": 6,
   "metadata": {},
   "outputs": [],
   "source": [
    "df.drop('Serial No.', axis=1, inplace=True)"
   ]
  },
  {
   "cell_type": "code",
   "execution_count": 7,
   "metadata": {},
   "outputs": [],
   "source": [
    "X = df.drop('Chance of Admit ', axis=1)\n",
    "y = df['Chance of Admit ']"
   ]
  },
  {
   "cell_type": "code",
   "execution_count": 8,
   "metadata": {},
   "outputs": [],
   "source": [
    "def models_regression_kfold(X, y):\n",
    "  from sklearn.linear_model import LinearRegression, Ridge, Lasso, ElasticNet\n",
    "  from sklearn.model_selection import KFold, cross_val_score\n",
    "\n",
    "  kfold = KFold(n_splits=5)\n",
    "\n",
    "  regression = LinearRegression()\n",
    "  ridge = Ridge()\n",
    "  lasso = Lasso()\n",
    "  elastic = ElasticNet()\n",
    "\n",
    "  score_regression = cross_val_score(regression, X, y, cv=kfold)\n",
    "  score_ridge = cross_val_score(ridge, X, y, cv=kfold)\n",
    "  score_lasso = cross_val_score(lasso, X, y, cv=kfold)\n",
    "  score_elastic = cross_val_score(elastic, X, y, cv=kfold)\n",
    "\n",
    "  reg_models = {\n",
    "    'Linear': score_regression.mean(), \n",
    "    'Ridge': score_ridge.mean(),\n",
    "    'Lasso': score_lasso.mean(),\n",
    "    'Elastic': score_elastic.mean()\n",
    "  }\n",
    "  best_model = max(reg_models, key=reg_models.get)\n",
    "\n",
    "  print(\n",
    "   f\"Linear Regression: {score_regression.mean()}\\nRidge Regression: {score_ridge.mean()}\\nLasso Regression: {score_lasso.mean()}\\nElastic Regression: {score_elastic.mean()}\"\n",
    "  )\n",
    "  print(f\"The best model was: {best_model} with the value: {reg_models[best_model]}\")"
   ]
  },
  {
   "cell_type": "code",
   "execution_count": 9,
   "metadata": {},
   "outputs": [
    {
     "name": "stdout",
     "output_type": "stream",
     "text": [
      "Linear Regression: 0.7711794121066353\n",
      "Ridge Regression: 0.7708707501243884\n",
      "Lasso Regression: 0.2120832416398803\n",
      "Elastic Regression: 0.5018924119815464\n",
      "The best model was: Linear with the value: 0.7711794121066353\n"
     ]
    }
   ],
   "source": [
    "models_regression_kfold(X, y)"
   ]
  }
 ],
 "metadata": {
  "kernelspec": {
   "display_name": "Python 3.11.0 ('.venv': poetry)",
   "language": "python",
   "name": "python3"
  },
  "language_info": {
   "codemirror_mode": {
    "name": "ipython",
    "version": 3
   },
   "file_extension": ".py",
   "mimetype": "text/x-python",
   "name": "python",
   "nbconvert_exporter": "python",
   "pygments_lexer": "ipython3",
   "version": "3.11.0"
  },
  "orig_nbformat": 4,
  "vscode": {
   "interpreter": {
    "hash": "235383575bc6404cdbba763e8f6edc7b13ff107240b891642c42f540a882121c"
   }
  }
 },
 "nbformat": 4,
 "nbformat_minor": 2
}
