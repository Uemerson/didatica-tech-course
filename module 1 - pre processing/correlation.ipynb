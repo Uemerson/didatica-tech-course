{
 "cells": [
  {
   "cell_type": "markdown",
   "metadata": {},
   "source": [
    "# Notes\n",
    "- Correlated variables are not good for the model, it is interesting to remove one of them.\n",
    "\n",
    "Correlations: \n",
    "- 0.9 plus or minus indicates a very strong correlation.\n",
    "- 0.7 to 0.9 positive or negative indicates a strong correlation.\n",
    "- 0.5 to 0.7 positive or negative indicates a moderate correlation.\n",
    "- 0.3 to 0.5 positive or negative indicates a weak correlation.\n",
    "- 0 to 0.3 positive or negative indicates negligible correlation."
   ]
  },
  {
   "cell_type": "markdown",
   "metadata": {},
   "source": [
    "# Code"
   ]
  },
  {
   "cell_type": "code",
   "execution_count": 1,
   "metadata": {},
   "outputs": [
    {
     "name": "stdout",
     "output_type": "stream",
     "text": [
      "           preg      plas      pres      skin      test      mass      pedi       age     class\n",
      "preg   1.000000  0.129459  0.141282 -0.081672 -0.073535  0.017683 -0.033523  0.544341  0.221898\n",
      "plas   0.129459  1.000000  0.152590  0.057328  0.331357  0.221071  0.137337  0.263514  0.466581\n",
      "pres   0.141282  0.152590  1.000000  0.207371  0.088933  0.281805  0.041265  0.239528  0.065068\n",
      "skin  -0.081672  0.057328  0.207371  1.000000  0.436783  0.392573  0.183928 -0.113970  0.074752\n",
      "test  -0.073535  0.331357  0.088933  0.436783  1.000000  0.197859  0.185071 -0.042163  0.130548\n",
      "mass   0.017683  0.221071  0.281805  0.392573  0.197859  1.000000  0.140647  0.036242  0.292695\n",
      "pedi  -0.033523  0.137337  0.041265  0.183928  0.185071  0.140647  1.000000  0.033561  0.173844\n",
      "age    0.544341  0.263514  0.239528 -0.113970 -0.042163  0.036242  0.033561  1.000000  0.238356\n",
      "class  0.221898  0.466581  0.065068  0.074752  0.130548  0.292695  0.173844  0.238356  1.000000\n"
     ]
    }
   ],
   "source": [
    "import pandas as pd\n",
    "# load dataset\n",
    "pd.set_option('display.width', 320)\n",
    "columns = ['preg', 'plas', 'pres', 'skin', 'test', 'mass', 'pedi', 'age', 'class']\n",
    "df = pd.read_csv('datasets/pima-indians-diabetes.csv', names=columns)\n",
    "print(df.corr(method='pearson'))"
   ]
  },
  {
   "cell_type": "code",
   "execution_count": 2,
   "metadata": {},
   "outputs": [
    {
     "data": {
      "image/png": "[encoded data removed]",
      "text/plain": [
       "<Figure size 720x720 with 2 Axes>"
      ]
     },
     "metadata": {
      "needs_background": "light"
     },
     "output_type": "display_data"
    }
   ],
   "source": [
    "# create heat map\n",
    "import pandas as pd\n",
    "import seaborn as sns\n",
    "import matplotlib.pyplot as plt\n",
    "columns = ['preg', 'plas', 'pres', 'skin', 'test', 'mass', 'pedi', 'age', 'class']\n",
    "df = pd.read_csv('datasets/pima-indians-diabetes.csv', names=columns)\n",
    "plt.figure(figsize=(10,10))\n",
    "sns.heatmap(df.corr())\n",
    "plt.show()"
   ]
  }
 ],
 "metadata": {
  "kernelspec": {
   "display_name": "Python 3.10.6 ('venv': venv)",
   "language": "python",
   "name": "python3"
  },
  "language_info": {
   "codemirror_mode": {
    "name": "ipython",
    "version": 3
   },
   "file_extension": ".py",
   "mimetype": "text/x-python",
   "name": "python",
   "nbconvert_exporter": "python",
   "pygments_lexer": "ipython3",
   "version": "3.10.6"
  },
  "orig_nbformat": 4,
  "vscode": {
   "interpreter": {
    "hash": "68dec69a27a286e2c4d208e2c9c752bc0772408208bf50690b9d3a7a2a5cc08f"
   }
  }
 },
 "nbformat": 4,
 "nbformat_minor": 2
}
